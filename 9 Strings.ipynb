{
 "cells": [
  {
   "cell_type": "markdown",
   "id": "e90690af",
   "metadata": {},
   "source": [
    "# Check Palindrome"
   ]
  },
  {
   "cell_type": "code",
   "execution_count": 1,
   "id": "759e72f0",
   "metadata": {},
   "outputs": [
    {
     "name": "stdout",
     "output_type": "stream",
     "text": [
      "pop\n",
      "true\n"
     ]
    }
   ],
   "source": [
    "\n",
    "from sys import stdin\n",
    "\n",
    "\n",
    "def isPalindrome(string) :\n",
    "    s = string[len(string)::-1]\n",
    "    return string == s\n",
    "\t# Your code goes here\n",
    "\n",
    "\n",
    "\n",
    "#main\n",
    "string = input()\n",
    "ans = isPalindrome(string)\n",
    "\n",
    "if ans :\n",
    "    print('true')\n",
    "else :\n",
    "    print('false')\n",
    "\n"
   ]
  },
  {
   "cell_type": "markdown",
   "id": "a2349b53",
   "metadata": {},
   "source": [
    "# Check Permutation"
   ]
  },
  {
   "cell_type": "code",
   "execution_count": 2,
   "id": "e8ad6a1f",
   "metadata": {},
   "outputs": [
    {
     "name": "stdout",
     "output_type": "stream",
     "text": [
      "abcde\n",
      "baedc\n",
      "true\n"
     ]
    }
   ],
   "source": [
    "\n",
    "from sys import stdin\n",
    "\n",
    "\n",
    "def isPermutation(string1, string2) :\n",
    "    string = string2\n",
    "    # print(string)\n",
    "    if(len(string1)!=len(string2)):\n",
    "        return False\n",
    "    a = sorted(string1)\n",
    "    string1 = \"\".join(a)\n",
    "    b = sorted(string2)\n",
    "    string2 = \"\".join(b)\n",
    "    for i in range(len(string1)):\n",
    "        # print(i in string , i)\n",
    "        if(string1[i] != string2[i]):\n",
    "            return False\n",
    "        # string = string.replace(i,'')\n",
    "    return True\n",
    "\t#Your code goes here\n",
    "    \n",
    "\n",
    "#main\n",
    "string1 = input()\n",
    "string2 = input()\n",
    "\n",
    "ans = isPermutation(string1, string2)\n",
    "\n",
    "if ans :\n",
    "    print('true')\n",
    "else :\n",
    "    print('false')\n",
    "\n",
    "\n"
   ]
  },
  {
   "cell_type": "markdown",
   "id": "eaee8e50",
   "metadata": {},
   "source": [
    "# Remove Consecutive Duplicates"
   ]
  },
  {
   "cell_type": "code",
   "execution_count": 3,
   "id": "707c3f13",
   "metadata": {},
   "outputs": [
    {
     "name": "stdout",
     "output_type": "stream",
     "text": [
      "aaaaa\n",
      "a\n"
     ]
    }
   ],
   "source": [
    "\n",
    "from sys import stdin\n",
    "\n",
    "def removeConsecutiveDuplicates(string) :\n",
    "    x = string[0]\n",
    "    str = x\n",
    "    for i in range(1,len(string)):\n",
    "        if(string[i] != x):\n",
    "            x  = string[i]\n",
    "            str += x\n",
    "    return str\n",
    "\t# Your code goes here\n",
    "\n",
    "\n",
    "#main\n",
    "string = input()\n",
    "\n",
    "ans = removeConsecutiveDuplicates(string)\n",
    "\n",
    "print(ans)"
   ]
  },
  {
   "cell_type": "markdown",
   "id": "a43b89e0",
   "metadata": {},
   "source": [
    "# Reverse Each Word"
   ]
  },
  {
   "cell_type": "code",
   "execution_count": 4,
   "id": "d4d4bf60",
   "metadata": {},
   "outputs": [
    {
     "name": "stdout",
     "output_type": "stream",
     "text": [
      "welcome to Coding Ninja\n",
      "emoclew ot gnidoC ajniN \n"
     ]
    }
   ],
   "source": [
    "\n",
    "from sys import stdin\n",
    "\n",
    "\n",
    "def reverseEachWord(string) :\n",
    "    lst = string.split(' ')\n",
    "    for i in range(len(lst)):\n",
    "        x = lst[i]\n",
    "        # print(x)\n",
    "        x = x[::-1]\n",
    "        # print(x)\n",
    "        lst[i] = x\n",
    "    str=''\n",
    "    for i in lst:\n",
    "        str += i\n",
    "        str += ' '\n",
    "    return str\n",
    "\t# Your code goes here\n",
    "\n",
    "\n",
    "#main\n",
    "string = input()\n",
    "\n",
    "ans = reverseEachWord(string)\n",
    "\n",
    "print(ans)"
   ]
  },
  {
   "cell_type": "markdown",
   "id": "ae83dc2b",
   "metadata": {},
   "source": [
    "# Remove character"
   ]
  },
  {
   "cell_type": "code",
   "execution_count": 5,
   "id": "1ee366d3",
   "metadata": {},
   "outputs": [
    {
     "name": "stdout",
     "output_type": "stream",
     "text": [
      "aabaab\n",
      "a\n",
      "bb\n"
     ]
    }
   ],
   "source": [
    "from sys import stdin\n",
    "\n",
    "\n",
    "def removeAllOccurrencesOfChar(string, ch) :\n",
    "    for i in string:\n",
    "        if i==ch:\n",
    "            string=string.replace(i,'')\n",
    "    return string\n",
    "\t# Your code goes here\n",
    "\n",
    "\n",
    "#main\n",
    "string = input()\n",
    "ch = input()\n",
    "\n",
    "ans = removeAllOccurrencesOfChar(string, ch)\n",
    "\n",
    "print(ans)"
   ]
  },
  {
   "cell_type": "markdown",
   "id": "d105dfc2",
   "metadata": {},
   "source": [
    "# Highest Occuring Character"
   ]
  },
  {
   "cell_type": "code",
   "execution_count": 6,
   "id": "4b241024",
   "metadata": {},
   "outputs": [
    {
     "name": "stdout",
     "output_type": "stream",
     "text": [
      "aaaabacba\n",
      "a\n"
     ]
    }
   ],
   "source": [
    "\n",
    "from sys import stdin\n",
    "\n",
    "\n",
    "def highestOccuringChar(string) :\n",
    "    dict = {}\n",
    "    for i in string:\n",
    "        if i in dict:\n",
    "            dict[i] += 1\n",
    "        else:\n",
    "            dict[i] = 1\n",
    "    max = dict[string[0]]\n",
    "    c = string[0]\n",
    "    for key in dict:\n",
    "        if(dict[key] > max):\n",
    "            max = dict[key]\n",
    "            c = key\n",
    "    return c\n",
    "            \n",
    "\t#Your code goes here\n",
    "\n",
    "#main\n",
    "string = input()\n",
    "ans = highestOccuringChar(string)\n",
    "\n",
    "print(ans)"
   ]
  },
  {
   "cell_type": "markdown",
   "id": "42c27cba",
   "metadata": {},
   "source": [
    "# Compress the String"
   ]
  },
  {
   "cell_type": "code",
   "execution_count": 7,
   "id": "b4643382",
   "metadata": {},
   "outputs": [
    {
     "name": "stdout",
     "output_type": "stream",
     "text": [
      "aasbvvddbf\n",
      "a2sbv2d2bf\n"
     ]
    }
   ],
   "source": [
    "def getCompressedString(input) :\n",
    "    input += ' '\n",
    "    s = input[0]\n",
    "    c = 1\n",
    "    string = ''\n",
    "    for i in range(1,len(input)):\n",
    "        # print(s,input[i])\n",
    "        if(input[i] == s):\n",
    "            c += 1\n",
    "        else:\n",
    "            string += s\n",
    "            if(c>1):\n",
    "                string += str(c)\n",
    "            s = input[i]\n",
    "            c = 1\n",
    "    return string\n",
    "\t# Write your code here.\n",
    "\n",
    "# Main.\n",
    "string = input()\n",
    "ans = getCompressedString(string)\n",
    "print(ans)"
   ]
  },
  {
   "cell_type": "code",
   "execution_count": null,
   "id": "cdf2dd98",
   "metadata": {},
   "outputs": [],
   "source": []
  }
 ],
 "metadata": {
  "kernelspec": {
   "display_name": "Python 3",
   "language": "python",
   "name": "python3"
  },
  "language_info": {
   "codemirror_mode": {
    "name": "ipython",
    "version": 3
   },
   "file_extension": ".py",
   "mimetype": "text/x-python",
   "name": "python",
   "nbconvert_exporter": "python",
   "pygments_lexer": "ipython3",
   "version": "3.8.8"
  }
 },
 "nbformat": 4,
 "nbformat_minor": 5
}
