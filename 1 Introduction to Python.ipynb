{
 "cells": [
  {
   "cell_type": "markdown",
   "id": "4628a9b8",
   "metadata": {},
   "source": [
    "# Find average Marks"
   ]
  },
  {
   "cell_type": "code",
   "execution_count": 2,
   "id": "3b29092b",
   "metadata": {},
   "outputs": [
    {
     "name": "stdout",
     "output_type": "stream",
     "text": [
      "3\n",
      "4\n",
      "6\n",
      "4.333333333333333\n"
     ]
    }
   ],
   "source": [
    "a=int(input())\n",
    "b=int(input())\n",
    "c=int(input())\n",
    "avg = (a+b+c)/3\n",
    "print(avg)"
   ]
  },
  {
   "cell_type": "markdown",
   "id": "bfbbecad",
   "metadata": {},
   "source": [
    "# Find X raised to power N"
   ]
  },
  {
   "cell_type": "code",
   "execution_count": 4,
   "id": "8f0a1408",
   "metadata": {},
   "outputs": [
    {
     "name": "stdout",
     "output_type": "stream",
     "text": [
      "0\n",
      "0\n",
      "1\n"
     ]
    }
   ],
   "source": [
    "x = int(input())\n",
    "n = int(input())\n",
    "print(x**n)"
   ]
  },
  {
   "cell_type": "markdown",
   "id": "67e0c40f",
   "metadata": {},
   "source": [
    "# Arithmetic Progression"
   ]
  },
  {
   "cell_type": "code",
   "execution_count": 5,
   "id": "d77d3878",
   "metadata": {},
   "outputs": [
    {
     "name": "stdout",
     "output_type": "stream",
     "text": [
      "1\n",
      "2\n",
      "3\n",
      "1\n"
     ]
    }
   ],
   "source": [
    "# Write your code here\n",
    "\n",
    "a = int(input())\n",
    "b = int(input())\n",
    "c = int(input())\n",
    "\n",
    "print(c-b)"
   ]
  },
  {
   "cell_type": "markdown",
   "id": "7196edaa",
   "metadata": {},
   "source": [
    "# Rectangular Area"
   ]
  },
  {
   "cell_type": "code",
   "execution_count": 6,
   "id": "3da1cc4d",
   "metadata": {},
   "outputs": [
    {
     "name": "stdout",
     "output_type": "stream",
     "text": [
      "1\n",
      "1\n",
      "3\n",
      "3\n",
      "4\n"
     ]
    }
   ],
   "source": [
    "# Write your code here\n",
    "\n",
    "x1 = int(input())\n",
    "y1 = int(input())\n",
    "x2 = int(input())\n",
    "y2 = int(input())\n",
    "\n",
    "print((x2-x1)*(y2-y1))"
   ]
  },
  {
   "cell_type": "code",
   "execution_count": null,
   "id": "791eccde",
   "metadata": {},
   "outputs": [],
   "source": []
  }
 ],
 "metadata": {
  "kernelspec": {
   "display_name": "Python 3",
   "language": "python",
   "name": "python3"
  },
  "language_info": {
   "codemirror_mode": {
    "name": "ipython",
    "version": 3
   },
   "file_extension": ".py",
   "mimetype": "text/x-python",
   "name": "python",
   "nbconvert_exporter": "python",
   "pygments_lexer": "ipython3",
   "version": "3.8.8"
  }
 },
 "nbformat": 4,
 "nbformat_minor": 5
}
