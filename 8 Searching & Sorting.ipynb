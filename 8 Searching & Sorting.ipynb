{
 "cells": [
  {
   "cell_type": "markdown",
   "id": "d5340dd0",
   "metadata": {},
   "source": [
    "# Code Binary Search\n"
   ]
  },
  {
   "cell_type": "code",
   "execution_count": 16,
   "id": "9641593b",
   "metadata": {},
   "outputs": [
    {
     "name": "stdout",
     "output_type": "stream",
     "text": [
      "7\n",
      "1 3 7 9 11 12 45\n",
      "1\n",
      "3\n",
      "1\n"
     ]
    }
   ],
   "source": [
    "from sys import stdin\n",
    "def binarySearch(arr, n, x) : \n",
    "    start = 0;\n",
    "    end = n - 1 \n",
    "    mid = start\n",
    "    while start <= end :\n",
    "        mid = start + (end - start) // 2\n",
    "        if arr[mid] > x :\n",
    "            end = mid - 1\n",
    "        elif arr[mid] < x :\n",
    "            start = mid + 1 \n",
    "        else : \n",
    "            return mid \n",
    "    return -1\n",
    "def takeInput() :\n",
    "    n = int(input())\n",
    "    if n == 0 :\n",
    "        return list(), 0\n",
    "    arr = list(map(int, input().strip().split(\" \"))) \n",
    "    return arr, n\n",
    "arr, n = takeInput()\n",
    "t = int(input()) \n",
    "while t > 0 : \n",
    "    x = int(input().strip()) \n",
    "    print(binarySearch(arr, n, x)) \n",
    "    t -= 1"
   ]
  },
  {
   "cell_type": "markdown",
   "id": "21e77e83",
   "metadata": {},
   "source": [
    "# Code Selection Sort"
   ]
  },
  {
   "cell_type": "code",
   "execution_count": 19,
   "id": "a425cc46",
   "metadata": {},
   "outputs": [
    {
     "name": "stdout",
     "output_type": "stream",
     "text": [
      "1\n",
      "5\n",
      "1 35 56 45 53\n",
      "1 35 45 53 56 \n"
     ]
    }
   ],
   "source": [
    "from sys import stdin\n",
    "\n",
    "def selectionSort(arr, n) :\n",
    "    for i in range(n-1):\n",
    "        min = i\n",
    "        for j in range(i+1, n):\n",
    "            if arr[j] < arr[min]:\n",
    "                min = j\n",
    "        arr[i], arr[min] = arr[min], arr[i]\n",
    "    return arr\n",
    "    #Your code goes here\n",
    "\n",
    "\n",
    "#Taking Input Using Fast I/O\n",
    "def takeInput() :\n",
    "    n = int(input())\n",
    "    if n == 0 :\n",
    "        return list(), 0\n",
    "\n",
    "    arr = list(map(int, input().split(\" \")))\n",
    "    return arr, n\n",
    "\n",
    "\n",
    "#to print the array/list\n",
    "def printList(arr, n) : \n",
    "    for i in range(n) :\n",
    "        print(arr[i], end = \" \")\n",
    "    print()\n",
    "\n",
    "\n",
    "#main\n",
    "t = int(input())\n",
    "\n",
    "while t > 0 :\n",
    "    \n",
    "    arr, n = takeInput()\n",
    "    selectionSort(arr, n)\n",
    "    printList(arr, n)\n",
    "\n",
    "    t-= 1"
   ]
  },
  {
   "cell_type": "markdown",
   "id": "4f151067",
   "metadata": {},
   "source": [
    "# Code Bubble Sort"
   ]
  },
  {
   "cell_type": "code",
   "execution_count": 21,
   "id": "4e067d43",
   "metadata": {},
   "outputs": [
    {
     "name": "stdout",
     "output_type": "stream",
     "text": [
      "Collecting stdin\n",
      "  Downloading stdin-2020.12.3.tar.gz (1.3 kB)\n",
      "Building wheels for collected packages: stdin\n",
      "  Building wheel for stdin (setup.py): started\n",
      "  Building wheel for stdin (setup.py): finished with status 'done'\n",
      "  Created wheel for stdin: filename=stdin-2020.12.3-py3-none-any.whl size=1391 sha256=39943f89947dfedcd8dee4d3f85398158fd1ade34c7c6befe3ff9a86280d0fa7\n",
      "  Stored in directory: c:\\users\\noisy\\appdata\\local\\pip\\cache\\wheels\\36\\ab\\f0\\4e0c987294e33b74a91cfcf1e735f6c880fcd331f5d6800c76\n",
      "Successfully built stdin\n",
      "Installing collected packages: stdin\n",
      "Successfully installed stdin-2020.12.3\n",
      "Note: you may need to restart the kernel to use updated packages.\n"
     ]
    }
   ],
   "source": [
    "pip install stdin"
   ]
  },
  {
   "cell_type": "code",
   "execution_count": 2,
   "id": "aa633702",
   "metadata": {},
   "outputs": [
    {
     "name": "stdout",
     "output_type": "stream",
     "text": [
      "1\n",
      "7\n",
      "2 13 4 1 3 6 28\n",
      "1 2 3 4 6 13 28 \n"
     ]
    }
   ],
   "source": [
    "from sys import stdin\n",
    "\n",
    "def bubbleSort(arr, n) :\n",
    "    for i in range(n):\n",
    "        for j in range(n-1):\n",
    "            if(arr[j] > arr[j+1]):\n",
    "                arr[j],arr[j+1] = arr[j+1],arr[j]\n",
    "    return arr\n",
    "    #Your code goes here\n",
    "\n",
    "\n",
    "#Taking Input Using Fast I/O\n",
    "def takeInput() :\n",
    "    n = int(input())\n",
    "    if n == 0 :\n",
    "        return list(), 0\n",
    "\n",
    "    arr = list(map(int, input().split(\" \")))\n",
    "    return arr, n\n",
    "\n",
    "\n",
    "#to print the array/list\n",
    "def printList(arr, n) : \n",
    "    for i in range(n) :\n",
    "        print(arr[i], end = \" \")\n",
    "    print()\n",
    "\n",
    "\n",
    "#main\n",
    "t = int(input())\n",
    "\n",
    "while t > 0 :\n",
    "    \n",
    "    arr, n = takeInput()\n",
    "    bubbleSort(arr, n)\n",
    "    printList(arr, n)\n",
    "\n",
    "    t-= 1"
   ]
  },
  {
   "cell_type": "markdown",
   "id": "f9fce5e0",
   "metadata": {},
   "source": [
    "# Code Insertion Sort"
   ]
  },
  {
   "cell_type": "code",
   "execution_count": 4,
   "id": "5ccc8b4c",
   "metadata": {},
   "outputs": [
    {
     "name": "stdout",
     "output_type": "stream",
     "text": [
      "1\n",
      "7\n",
      "2 13 4 1 3 6 28\n",
      "1 2 3 4 6 13 28 \n"
     ]
    }
   ],
   "source": [
    "\n",
    "def insertionSort(arr, n) :\n",
    "    for i in range(1,n):\n",
    "        key = arr[i]\n",
    "        j = i-1\n",
    "        while j>=0 and key < arr[j]:\n",
    "            arr[j+1],arr[j] = arr[j], arr[j+1]\n",
    "            j = j-1\n",
    "        arr[j+1] = key\n",
    "    return arr\n",
    "        \n",
    "    #Your code goes here\n",
    "\n",
    "\n",
    "#Taking Input Using Fast I/O\n",
    "def takeInput() :\n",
    "    n = int(input())\n",
    "    if n == 0 :\n",
    "        return list(), 0\n",
    "\n",
    "    arr = list(map(int, input().split(\" \")))\n",
    "    return arr, n\n",
    "\n",
    "\n",
    "#to print the array/list\n",
    "def printList(arr, n) : \n",
    "    for i in range(n) :\n",
    "        print(arr[i], end = \" \")\n",
    "        \n",
    "    print()\n",
    "\n",
    "\n",
    "#main\n",
    "t = int(input())\n",
    "\n",
    "while t > 0 :\n",
    "    \n",
    "    arr, n = takeInput()\n",
    "    insertionSort(arr, n)\n",
    "    printList(arr, n)\n",
    "\n",
    "    t-= 1"
   ]
  },
  {
   "cell_type": "markdown",
   "id": "15407a17",
   "metadata": {},
   "source": [
    "# Code Merge Two Sorted Arrays"
   ]
  },
  {
   "cell_type": "code",
   "execution_count": 5,
   "id": "81c26b7d",
   "metadata": {},
   "outputs": [
    {
     "name": "stdout",
     "output_type": "stream",
     "text": [
      "1\n",
      "5\n",
      "1 3 4 7 11\n",
      "4\n",
      "2 4 6 13\n",
      "1 2 3 4 4 6 7 11 13 \n"
     ]
    }
   ],
   "source": [
    "from sys import stdin\n",
    "\n",
    "def merge(arr1, n, arr2, m) : \n",
    "    i,j = 0,0\n",
    "    l1, l2 = len(arr1),len(arr2)\n",
    "    new_arr=[]\n",
    "    while i < l1 and j < l2:\n",
    "        if(arr1[i] < arr2[j]):\n",
    "            new_arr.append(arr1[i])\n",
    "            i  += 1\n",
    "        else:\n",
    "            new_arr.append(arr2[j])\n",
    "            j += 1\n",
    "    while i < l1:\n",
    "        new_arr.append(arr1[i])\n",
    "        i+=1\n",
    "    while j < l2:\n",
    "        new_arr.append(arr2[j])\n",
    "        j+=1\n",
    "    return new_arr\n",
    "    #Your code goes here\n",
    "\n",
    "#Taking Input Using Fast I/O\n",
    "def takeInput() :\n",
    "    n = int(input())\n",
    "    if n != 0:\n",
    "        arr = list(map(int, input().split(\" \")))\n",
    "        return arr, n\n",
    "\n",
    "    return list(), 0\n",
    "\n",
    "\n",
    "#to print the array/list\n",
    "def printList(arr, n) : \n",
    "    for i in range(n) :\n",
    "        print(arr[i], end = \" \")\n",
    "        \n",
    "    print()\n",
    "\n",
    "\n",
    "#main\n",
    "t = int(input())\n",
    "\n",
    "while t > 0 :\n",
    "\n",
    "    arr1, n = takeInput()\n",
    "    arr2, m = takeInput()\n",
    "\n",
    "    ans = merge(arr1, n, arr2, m)\n",
    "    printList(ans, (n + m))\n",
    "\n",
    "    t -= 1"
   ]
  },
  {
   "cell_type": "markdown",
   "id": "41e0f6d8",
   "metadata": {},
   "source": [
    "# Push Zeros to end"
   ]
  },
  {
   "cell_type": "code",
   "execution_count": 7,
   "id": "1e07589f",
   "metadata": {},
   "outputs": [
    {
     "name": "stdout",
     "output_type": "stream",
     "text": [
      "1\n",
      "7\n",
      "2 0 0 1 3 0 0\n",
      "2 1 3 0 0 0 0 \n"
     ]
    }
   ],
   "source": [
    "from sys import stdin\n",
    "\n",
    "def pushZerosAtEnd(arr, n) :\n",
    "    non_zero = 0\n",
    "    for i in range(n):\n",
    "        if(arr[i]!=0):\n",
    "            temp = arr[i]\n",
    "            arr[i] = arr[non_zero]\n",
    "            arr[non_zero] = temp\n",
    "            non_zero += 1\n",
    "    return arr\n",
    "    #Your code goes here\n",
    "\n",
    "#Taking Input Using Fast I/O\n",
    "def takeInput() :\n",
    "    n = int(input().rstrip())\n",
    "\n",
    "    if n == 0:\n",
    "        return list(), 0\n",
    "    \n",
    "    arr = list(map(int, input().rstrip().split()))\n",
    "    return arr, n\n",
    "  \n",
    "\n",
    "#to print the array/list\n",
    "def printList(arr, n) : \n",
    "    for i in range(n) :\n",
    "        print(arr[i], end = \" \")\n",
    "\n",
    "    print()\n",
    "\n",
    "\n",
    "#main\n",
    "t = int(input().strip())\n",
    "\n",
    "while t > 0 :\n",
    "\n",
    "    arr, n = takeInput()\n",
    "\n",
    "    pushZerosAtEnd(arr, n)\n",
    "    printList(arr, n)\n",
    "\n",
    "    t -= 1"
   ]
  },
  {
   "cell_type": "markdown",
   "id": "af1052af",
   "metadata": {},
   "source": [
    "# Rotate array\n"
   ]
  },
  {
   "cell_type": "code",
   "execution_count": 10,
   "id": "28746853",
   "metadata": {},
   "outputs": [
    {
     "name": "stdout",
     "output_type": "stream",
     "text": [
      "1\n",
      "5\n",
      "1 2 3 4 5\n",
      "2\n",
      "3 4 5 1 2\n"
     ]
    }
   ],
   "source": [
    "for _ in range(int(input())):\n",
    "    n = int(input())\n",
    "    arr = [int(i) for i in input().split()][:n]\n",
    "    if(n==0):\n",
    "        pass\n",
    "    else:\n",
    "        d = int(input())\n",
    "        lst = arr[0:d]\n",
    "        arr = arr[d:]\n",
    "        arr.extend(lst)\n",
    "        print(*arr,sep=\" \")"
   ]
  },
  {
   "cell_type": "markdown",
   "id": "b8e346cc",
   "metadata": {},
   "source": [
    "# Second Largest in array\n"
   ]
  },
  {
   "cell_type": "code",
   "execution_count": 11,
   "id": "98e9158c",
   "metadata": {},
   "outputs": [
    {
     "name": "stdout",
     "output_type": "stream",
     "text": [
      "1\n",
      "7\n",
      "2 13 4 1 3 6 28\n",
      "13\n"
     ]
    }
   ],
   "source": [
    "# Take Minimum value as MIN_VALUE = -2147483648\n",
    "from sys import stdin\n",
    "\n",
    "\n",
    "def secondLargestElement(arr, n):\n",
    "    if(n <= 1):\n",
    "        return -2147483648\n",
    "    else:\n",
    "        largest = arr[0]\n",
    "        secondlargest = largest\n",
    "        for i in range(n):\n",
    "            if(arr[i] > largest):\n",
    "                secondlargest = largest\n",
    "                largest = arr[i]\n",
    "            elif secondlargest < arr[i] and largest > arr[i]:\n",
    "                secondlargest = arr[i]\n",
    "        if(largest == secondlargest):\n",
    "            return -2147483648\n",
    "        else:\n",
    "        \treturn secondlargest\n",
    "    #Your code goes here\n",
    "\n",
    "#Taking Input Using Fast I/O\n",
    "def takeInput() :\n",
    "    n = int(input().rstrip())\n",
    "    if n != 0:\n",
    "        arr = list(map(int, input().rstrip().split(\" \")))\n",
    "        return arr, n\n",
    "\n",
    "    return list(), 0\n",
    "\n",
    "\n",
    "\n",
    "#main\n",
    "t = int(input().rstrip())\n",
    "\n",
    "while t > 0 : \n",
    "    \n",
    "    arr, n = takeInput()\n",
    "    print(secondLargestElement(arr, n))\n",
    "\n",
    "    t -= 1"
   ]
  },
  {
   "cell_type": "markdown",
   "id": "df54263f",
   "metadata": {},
   "source": [
    "# Check Array Rotation\n"
   ]
  },
  {
   "cell_type": "code",
   "execution_count": 12,
   "id": "4cdf0fab",
   "metadata": {},
   "outputs": [
    {
     "name": "stdout",
     "output_type": "stream",
     "text": [
      "1\n",
      "6\n",
      "5 6 1 2 3 4\n",
      "2\n"
     ]
    }
   ],
   "source": [
    "from sys import stdin \n",
    "def arrayRotateCheck(arr, n):\n",
    "    for i in range(n - 1):\n",
    "        if(arr[i] > arr[i + 1]):\n",
    "            return (i + 1) \n",
    "    return 0 \n",
    "def takeInput() : \n",
    "    n = int(input().rstrip()) \n",
    "    if n == 0:\n",
    "        return list(), 0 \n",
    "    arr = list(map(int, input().rstrip().split(\" \"))) \n",
    "    return arr, n\n",
    "t = int(input().rstrip())\n",
    "while t > 0 :\n",
    "    arr, n = takeInput() \n",
    "    print(arrayRotateCheck(arr, n))\n",
    "    \n",
    "    t -= 1"
   ]
  },
  {
   "cell_type": "markdown",
   "id": "b6f0636a",
   "metadata": {},
   "source": [
    "# Sort 0 1 2\n"
   ]
  },
  {
   "cell_type": "code",
   "execution_count": 13,
   "id": "33e16b37",
   "metadata": {},
   "outputs": [
    {
     "name": "stdout",
     "output_type": "stream",
     "text": [
      "1\n",
      "7\n",
      "0 1 2 0 2 0 1\n",
      "0 0 0 1 1 2 2 \n"
     ]
    }
   ],
   "source": [
    "from sys import stdin \n",
    "\n",
    "def sort012(arr, n) :\n",
    "    return arr.sort()\n",
    "    #Your code goes here\n",
    "\n",
    "#Taking Input Using Fast I/O\n",
    "def takeInput() :\n",
    "    n = int(input())\n",
    "    if n == 0 :\n",
    "        return list(), 0\n",
    "\n",
    "    arr = list(map(int, input().split(\" \")))\n",
    "    return arr, n\n",
    "\n",
    "\n",
    "#to print the array/list\n",
    "def printList(arr, n) :\n",
    "    for i in range(n) :\n",
    "        print(arr[i], end = \" \")\n",
    "\n",
    "    print()\n",
    "\n",
    "\n",
    "#main\n",
    "t = int(input())\n",
    "\n",
    "while t > 0 :\n",
    "    \n",
    "    arr, n = takeInput()\n",
    "\n",
    "    sort012(arr, n)\n",
    "    printList(arr, n)\n",
    "    \n",
    "    t -= 1\n",
    "    "
   ]
  },
  {
   "cell_type": "markdown",
   "id": "e1af7c21",
   "metadata": {},
   "source": [
    "# Sum of Two Arrays"
   ]
  },
  {
   "cell_type": "code",
   "execution_count": 14,
   "id": "7b36591c",
   "metadata": {},
   "outputs": [
    {
     "name": "stdout",
     "output_type": "stream",
     "text": [
      "1\n",
      "3\n",
      "6 2 4\n",
      "3\n",
      "7 5 6\n",
      "1 3 8 0 \n"
     ]
    }
   ],
   "source": [
    "from sys import stdin\n",
    "\n",
    "def list_to_number(arr,n):\n",
    "    if(n<1):\n",
    "        return 0\n",
    "    else:\n",
    "        zero = n - 1\n",
    "        total = 0\n",
    "        for i in range(n):\n",
    "            total += arr[i]*(10**zero)\n",
    "            zero -= 1\n",
    "        return total\n",
    "\n",
    "def sumOfTwoArrays(arr1, n, arr2, m, output) :\n",
    "    x = list_to_number(arr1, n)\n",
    "    y = list_to_number(arr2, m)\n",
    "    # print(x,y)\n",
    "    z = x + y\n",
    "    # print(z)\n",
    "    length = len(output) - 1\n",
    "    while z > 0:\n",
    "        r = z % 10\n",
    "        # print(r)\n",
    "        output[length] = r\n",
    "        # print(output)\n",
    "        length -= 1\n",
    "        z = z//10\n",
    "    return output\n",
    "    \n",
    "    #Your code goes here\n",
    "\n",
    "#Taking Input Using Fast I/O\n",
    "def takeInput() :\n",
    "    n = int(input().rstrip())\n",
    "    if n == 0 :\n",
    "        return list(), 0\n",
    "    \n",
    "    arr = list(map(int, input().rstrip().split(\" \")))\n",
    "    return arr, n\n",
    "\n",
    "\n",
    "#to print the array/list\n",
    "def printList(arr, n) :\n",
    "    for i in range(n) :\n",
    "        print(arr[i], end = \" \")\n",
    "    \n",
    "    print()\n",
    "\n",
    "\n",
    "#main\n",
    "t = int(input().rstrip())\n",
    "\n",
    "while t > 0 :\n",
    "    arr1, n = takeInput()\n",
    "    arr2, m = takeInput()\n",
    "    \n",
    "    outputSize = (1 + max(n, m))\n",
    "    output = outputSize * [0]\n",
    "    \n",
    "    sumOfTwoArrays(arr1, n, arr2, m, output)\n",
    "    printList(output, outputSize)\n",
    "    \n",
    "    t -= 1"
   ]
  },
  {
   "cell_type": "code",
   "execution_count": null,
   "id": "07a09975",
   "metadata": {},
   "outputs": [],
   "source": []
  }
 ],
 "metadata": {
  "kernelspec": {
   "display_name": "Python 3",
   "language": "python",
   "name": "python3"
  },
  "language_info": {
   "codemirror_mode": {
    "name": "ipython",
    "version": 3
   },
   "file_extension": ".py",
   "mimetype": "text/x-python",
   "name": "python",
   "nbconvert_exporter": "python",
   "pygments_lexer": "ipython3",
   "version": "3.8.8"
  }
 },
 "nbformat": 4,
 "nbformat_minor": 5
}
