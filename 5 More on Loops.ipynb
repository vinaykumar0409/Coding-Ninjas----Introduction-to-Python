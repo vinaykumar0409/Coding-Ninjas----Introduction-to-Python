{
 "cells": [
  {
   "cell_type": "markdown",
   "id": "0b3012bf",
   "metadata": {},
   "source": [
    "# Binary Pattern"
   ]
  },
  {
   "cell_type": "code",
   "execution_count": 1,
   "id": "5fa18267",
   "metadata": {},
   "outputs": [
    {
     "name": "stdout",
     "output_type": "stream",
     "text": [
      "4\n",
      "1111\n",
      "000\n",
      "11\n",
      "0\n"
     ]
    }
   ],
   "source": [
    "## Read input as specified in the question.\n",
    "## Print output as specified in the question.\n",
    "n = int(input())\n",
    "one =\"1\"\n",
    "zero = \"0\"\n",
    "for i in range(n):\n",
    "    if(i % 2 == 0):\n",
    "        print(one*(n-i))\n",
    "    else:\n",
    "        print(zero*(n-i))"
   ]
  },
  {
   "cell_type": "markdown",
   "id": "147656d9",
   "metadata": {},
   "source": [
    "# Print Number Pyramid\n"
   ]
  },
  {
   "cell_type": "code",
   "execution_count": 2,
   "id": "93a4ced7",
   "metadata": {},
   "outputs": [
    {
     "name": "stdout",
     "output_type": "stream",
     "text": [
      "4\n",
      "1234\n",
      " 234\n",
      "  34\n",
      "   4\n",
      "  34\n",
      " 234\n",
      "1234\n"
     ]
    }
   ],
   "source": [
    "## Read input as specified in the question.\n",
    "## Print output as specified in the question.\n",
    "n = int(input())\n",
    "s = \" \"\n",
    "# num = \"\"\n",
    "lst=[]\n",
    "for i in range(1,n+1):\n",
    "    lst.append(i)\n",
    "    # num = str(i) + num\n",
    "# print(num)\n",
    "temp = lst\n",
    "for i in range(n):\n",
    "    print(s*i,end=\"\")\n",
    "    temp = lst[i:]\n",
    "    print(*temp,sep='')\n",
    "for i in range(n-1,0,-1):\n",
    "    print(s*(i-1),end=\"\")\n",
    "    temp = lst[(i-1):]\n",
    "    print(*temp,sep='')\n",
    "    "
   ]
  },
  {
   "cell_type": "markdown",
   "id": "71537078",
   "metadata": {},
   "source": [
    "# Diamond of Stars\n"
   ]
  },
  {
   "cell_type": "code",
   "execution_count": 5,
   "id": "8e81920f",
   "metadata": {},
   "outputs": [
    {
     "name": "stdout",
     "output_type": "stream",
     "text": [
      "5\n",
      "  *\n",
      " ***\n",
      "*****\n",
      " ***\n",
      "  *\n"
     ]
    }
   ],
   "source": [
    "## Read input as specified in the question.\n",
    "## Print output as specified in the question.\n",
    "n = int(input())\n",
    "firstHalf = (n + 1) // 2\n",
    "secondHalf = n // 2\n",
    "#First Half\n",
    "currRow = 1 \n",
    "while currRow <= firstHalf:\n",
    "    spaces = 1 \n",
    "    while spaces <= (firstHalf - currRow) :\n",
    "        print(\" \", end = \"\")\n",
    "        spaces += 1\n",
    "    currCol = 1\n",
    "    while currCol <= (2 * currRow) - 1 :\n",
    "        print(\"*\", end = \"\")\n",
    "        currCol += 1\n",
    "        \n",
    "    print()\n",
    "    currRow += 1\n",
    "#Second Half \n",
    "currRow = secondHalf \n",
    "while currRow >= 1 :\n",
    "    spaces = 1\n",
    "    while spaces <= (secondHalf - currRow + 1) :\n",
    "        print(\" \", end = \"\") \n",
    "        spaces += 1\n",
    "    currCol = 1 \n",
    "    while currCol <= (2 * currRow) - 1 :\n",
    "        print(\"*\", end = \"\") \n",
    "        currCol += 1\n",
    "    \n",
    "    print()\n",
    "    currRow -= 1"
   ]
  },
  {
   "cell_type": "markdown",
   "id": "4c1c2e51",
   "metadata": {},
   "source": [
    "# Rectangular numbers"
   ]
  },
  {
   "cell_type": "code",
   "execution_count": 6,
   "id": "8b059f84",
   "metadata": {},
   "outputs": [
    {
     "name": "stdout",
     "output_type": "stream",
     "text": [
      "5\n",
      "555555555\n",
      "544444445\n",
      "543333345\n",
      "543222345\n",
      "543212345\n",
      "543222345\n",
      "543333345\n",
      "544444445\n",
      "555555555\n"
     ]
    }
   ],
   "source": [
    "## Read input as specified in the question.\n",
    "## Print output as specified in the question.\n",
    "n = int(input())\n",
    "x = n+(n-1)\n",
    "s = str(n)\n",
    "lst = [int(i) for i in range(n,0,-1)]\n",
    "lengeth = 0\n",
    "l=[]\n",
    "string = \"\"\n",
    "rev_str = \"\"\n",
    "for i in range(n-1):\n",
    "    # rev = str(lst[0]) + string\n",
    "    string = string + str(lst[0])\n",
    "    lengeth += 1\n",
    "    rev_str = str(lst[0]) + rev_str\n",
    "    y = lengeth * 2\n",
    "    z = x - y\n",
    "    string1 = str(lst[0]) * z\n",
    "    lst.remove(lst[0])\n",
    "    all = string + string1 + rev_str\n",
    "    l.append(all)\n",
    "    print(all)\n",
    "print(string + \"1\" + rev_str)\n",
    "\n",
    "for i in range(n-1):\n",
    "    print(l[-1])\n",
    "    l.remove(l[-1])\n",
    "    \n",
    "    \n"
   ]
  },
  {
   "cell_type": "markdown",
   "id": "7d9482fa",
   "metadata": {},
   "source": [
    "# Print the pattern"
   ]
  },
  {
   "cell_type": "code",
   "execution_count": 7,
   "id": "ac7c14f0",
   "metadata": {},
   "outputs": [
    {
     "name": "stdout",
     "output_type": "stream",
     "text": [
      "5\n",
      "1 2 3 4 5 \n",
      "11 12 13 14 15 \n",
      "21 22 23 24 25 \n",
      "16 17 18 19 20 \n",
      "6 7 8 9 10 \n"
     ]
    }
   ],
   "source": [
    "n = int(input()) \n",
    "startValue = 1\n",
    "for i in range(1,n+1): \n",
    "    for j in range(startValue,startValue + n):\n",
    "        print(j,end=\" \")\n",
    "    print()\n",
    "    if(i==((n+1)//2)):\n",
    "        if((n%2)!=0):\n",
    "            startValue = n*(n-2)+1\n",
    "        else:\n",
    "            startValue = n*(n-1) + 1\n",
    "    elif((i>(n+1)//2)):\n",
    "        startValue = startValue - 2*n\n",
    "    else:\n",
    "        startValue = startValue + 2*n "
   ]
  },
  {
   "cell_type": "code",
   "execution_count": null,
   "id": "c0536f76",
   "metadata": {},
   "outputs": [],
   "source": []
  }
 ],
 "metadata": {
  "kernelspec": {
   "display_name": "Python 3",
   "language": "python",
   "name": "python3"
  },
  "language_info": {
   "codemirror_mode": {
    "name": "ipython",
    "version": 3
   },
   "file_extension": ".py",
   "mimetype": "text/x-python",
   "name": "python",
   "nbconvert_exporter": "python",
   "pygments_lexer": "ipython3",
   "version": "3.8.8"
  }
 },
 "nbformat": 4,
 "nbformat_minor": 5
}
