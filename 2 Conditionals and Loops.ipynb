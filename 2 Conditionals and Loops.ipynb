{
 "cells": [
  {
   "cell_type": "markdown",
   "id": "494767fb",
   "metadata": {},
   "source": [
    "# Check number"
   ]
  },
  {
   "cell_type": "code",
   "execution_count": 1,
   "id": "950807a4",
   "metadata": {},
   "outputs": [
    {
     "name": "stdout",
     "output_type": "stream",
     "text": [
      "10\n",
      "Positive\n"
     ]
    }
   ],
   "source": [
    "# Read input as sepcified in the question\n",
    "# Print output as specified in the question\n",
    "n=int(input())\n",
    "if(n==0):\n",
    "    print(\"Zero\")\n",
    "elif(n>0):\n",
    "    print(\"Positive\")\n",
    "else:\n",
    "    print(\"Negative\")"
   ]
  },
  {
   "cell_type": "markdown",
   "id": "99c6d620",
   "metadata": {},
   "source": [
    "# Sum of n numbers"
   ]
  },
  {
   "cell_type": "code",
   "execution_count": 2,
   "id": "b46bc1fa",
   "metadata": {},
   "outputs": [
    {
     "name": "stdout",
     "output_type": "stream",
     "text": [
      "10\n",
      "55\n"
     ]
    }
   ],
   "source": [
    "# Read input as sepcified in the question\n",
    "# Print output as specified in the question\n",
    "n=int(input())\n",
    "print((n*(n+1))//2)"
   ]
  },
  {
   "cell_type": "markdown",
   "id": "fde1266e",
   "metadata": {},
   "source": [
    "# Fahrenheit to Celsius"
   ]
  },
  {
   "cell_type": "code",
   "execution_count": 3,
   "id": "72d7093c",
   "metadata": {},
   "outputs": [
    {
     "name": "stdout",
     "output_type": "stream",
     "text": [
      "0\n",
      "100\n",
      "20\n",
      "0 -17\n",
      "20 -6\n",
      "40 4\n",
      "60 15\n",
      "80 26\n",
      "100 37\n"
     ]
    }
   ],
   "source": [
    "# Read input as sepcified in the question\n",
    "# Print output as specified in the question\n",
    "\n",
    "s = int(input())\n",
    "e = int(input())\n",
    "w = int(input())\n",
    "\n",
    "while s<=e:\n",
    "    print(s,end=\" \")\n",
    "    x=int((s-32)/1.8)\n",
    "    print(x)\n",
    "    s = s+w"
   ]
  },
  {
   "cell_type": "markdown",
   "id": "7dbde703",
   "metadata": {},
   "source": [
    "# Calculator"
   ]
  },
  {
   "cell_type": "code",
   "execution_count": 5,
   "id": "1446db36",
   "metadata": {
    "scrolled": true
   },
   "outputs": [
    {
     "name": "stdout",
     "output_type": "stream",
     "text": [
      "3\n",
      "1\n",
      "2\n",
      "2\n",
      "4\n",
      "4\n",
      "3\n",
      "1\n",
      "1\n",
      "2\n",
      "2\n",
      "4\n",
      "7\n",
      "Invalid Operation\n",
      "6\n"
     ]
    }
   ],
   "source": [
    "while 1:\n",
    "    n = int(input())\n",
    "    if(n == 1):\n",
    "        a = int(input())\n",
    "        b = int(input())\n",
    "        print(a+b)\n",
    "    elif(n == 2):\n",
    "        a = int(input())\n",
    "        b = int(input())\n",
    "        print(a-b)\n",
    "    elif(n == 3):\n",
    "        a = int(input())\n",
    "        b = int(input())\n",
    "        print(a*b)\n",
    "    elif(n == 4):\n",
    "        a = int(input())\n",
    "        b = int(input())\n",
    "        print(a//b)\n",
    "    elif(n == 5):\n",
    "        a = int(input())\n",
    "        b = int(input())\n",
    "        print(a%b)\n",
    "    elif(n == 6):\n",
    "        break\n",
    "    else:\n",
    "        print(\"Invalid Operation\")\n",
    "    "
   ]
  },
  {
   "cell_type": "markdown",
   "id": "478ea07f",
   "metadata": {},
   "source": [
    "# Reverse of a number"
   ]
  },
  {
   "cell_type": "code",
   "execution_count": 6,
   "id": "b1e3bbed",
   "metadata": {},
   "outputs": [
    {
     "name": "stdout",
     "output_type": "stream",
     "text": [
      "1234\n",
      "4321\n"
     ]
    }
   ],
   "source": [
    "#Write Your Code Here\n",
    "n = int(input())\n",
    "sum = 0\n",
    "while n > 0:\n",
    "    num = n % 10\n",
    "    sum = (sum*10) + num\n",
    "    n = n//10\n",
    "print(sum)"
   ]
  },
  {
   "cell_type": "markdown",
   "id": "c2ff2395",
   "metadata": {},
   "source": [
    "# Palindrome number"
   ]
  },
  {
   "cell_type": "code",
   "execution_count": 7,
   "id": "85813773",
   "metadata": {},
   "outputs": [
    {
     "name": "stdout",
     "output_type": "stream",
     "text": [
      "123454321\n",
      "true\n"
     ]
    }
   ],
   "source": [
    "def checkPalindrome(num):\n",
    "    temp = num\n",
    "    rev = 0\n",
    "    while(num > 0):\n",
    "        n = num%10\n",
    "        rev = (rev*10) + n\n",
    "        num = num//10\n",
    "    if(temp == rev):\n",
    "        return True\n",
    "    else:\n",
    "        return False\n",
    "\n",
    "\t\t\n",
    "num = int(input())\n",
    "# rev = 0\n",
    "isPalindrome = checkPalindrome(num)\n",
    "if(isPalindrome):\n",
    "\tprint('true')\n",
    "else:\n",
    "\tprint('false')\n",
    "\n",
    "\n"
   ]
  },
  {
   "cell_type": "markdown",
   "id": "9eb933e0",
   "metadata": {},
   "source": [
    "# Sum of even & odd"
   ]
  },
  {
   "cell_type": "code",
   "execution_count": 8,
   "id": "34d939d8",
   "metadata": {},
   "outputs": [
    {
     "name": "stdout",
     "output_type": "stream",
     "text": [
      "12345556\n",
      "12 19\n"
     ]
    }
   ],
   "source": [
    "## Note : For printing multiple values in one line, put them inside print separated by space.\n",
    "## You can follow this syntax for printing values of two variables val1 and val2 separaetd by space -\n",
    "## print(val1, \" \", val2)\n",
    "n = input()\n",
    "even=0\n",
    "odd= 0\n",
    "for i in range(len(n)):\n",
    "    if(int(n[i])%2==0):\n",
    "        even = even + int(n[i])\n",
    "    else:\n",
    "        odd = odd + int(n[i])\n",
    "print(even,end=\" \")\n",
    "print(odd)"
   ]
  },
  {
   "cell_type": "markdown",
   "id": "e689373e",
   "metadata": {},
   "source": [
    "# Nth Fibonacci Number"
   ]
  },
  {
   "cell_type": "code",
   "execution_count": 9,
   "id": "365c6984",
   "metadata": {},
   "outputs": [
    {
     "name": "stdout",
     "output_type": "stream",
     "text": [
      "6\n",
      "8\n"
     ]
    }
   ],
   "source": [
    "## Read input as specified in the question.\n",
    "## Print output as specified in the question.\n",
    "n = int(input())\n",
    "a=1\n",
    "b=1\n",
    "c=0\n",
    "if(n<3):\n",
    "    print(1)\n",
    "else:\n",
    "    n=n-2\n",
    "    while n>0:\n",
    "        c = a+b\n",
    "        a = b\n",
    "        b = c\n",
    "        n -= 1\n",
    "    print(c)\n",
    " "
   ]
  },
  {
   "cell_type": "code",
   "execution_count": null,
   "id": "1236700b",
   "metadata": {},
   "outputs": [],
   "source": []
  }
 ],
 "metadata": {
  "kernelspec": {
   "display_name": "Python 3",
   "language": "python",
   "name": "python3"
  },
  "language_info": {
   "codemirror_mode": {
    "name": "ipython",
    "version": 3
   },
   "file_extension": ".py",
   "mimetype": "text/x-python",
   "name": "python",
   "nbconvert_exporter": "python",
   "pygments_lexer": "ipython3",
   "version": "3.8.8"
  }
 },
 "nbformat": 4,
 "nbformat_minor": 5
}
