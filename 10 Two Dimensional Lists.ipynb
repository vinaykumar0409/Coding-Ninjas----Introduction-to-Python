{
 "cells": [
  {
   "cell_type": "markdown",
   "id": "03c55471",
   "metadata": {},
   "source": [
    "# Row Wise Sum"
   ]
  },
  {
   "cell_type": "code",
   "execution_count": 3,
   "id": "aba52320",
   "metadata": {},
   "outputs": [
    {
     "name": "stdout",
     "output_type": "stream",
     "text": [
      "1\n",
      "2 2\n",
      "1 2\n",
      "3 4\n",
      "3 7 \n"
     ]
    }
   ],
   "source": [
    "from sys import stdin\n",
    "\n",
    "def rowWiseSum(mat, nRows, mCols):\n",
    "    for row in mat:\n",
    "        print(sum(row),end=\" \")\n",
    "    #Your code goes here\n",
    "\n",
    "#Taking Input Using Fast I/O\n",
    "def take2DInput() :\n",
    "    li = input().split(\" \")\n",
    "    nRows = int(li[0])\n",
    "    mCols = int(li[1])\n",
    "    \n",
    "    if nRows == 0 :\n",
    "        return list(), 0, 0\n",
    "    \n",
    "    mat = [list(map(int, input().strip().split(\" \"))) for row in range(nRows)]\n",
    "    return mat, nRows, mCols\n",
    "\n",
    "\n",
    "#main\n",
    "t = int(input())\n",
    "\n",
    "while t > 0 :\n",
    "\n",
    "    mat, nRows, mCols = take2DInput()\n",
    "    rowWiseSum(mat, nRows, mCols)\n",
    "    print()\n",
    "\n",
    "    t -= 1"
   ]
  },
  {
   "cell_type": "markdown",
   "id": "90e6b8f5",
   "metadata": {},
   "source": [
    "# Largest Row or Column"
   ]
  },
  {
   "cell_type": "code",
   "execution_count": 4,
   "id": "392da7e9",
   "metadata": {},
   "outputs": [
    {
     "name": "stdout",
     "output_type": "stream",
     "text": [
      "1\n",
      "2 2\n",
      "1 2\n",
      "3 4\n",
      "row 1 7\n"
     ]
    }
   ],
   "source": [
    "'''\n",
    "    In order to print two or more integers in a line separated by a single \n",
    "    space then you may consider printing it with the statement, \n",
    "\n",
    "    print(str(num1) + \" \" + str(num2))\n",
    "    Take Minimum value as MIN_VALUE = -2147483648\n",
    "\n",
    "'''\n",
    "\n",
    "from sys import stdin\n",
    "\n",
    "def findLargest(arr, nRows, mCols):\n",
    "    row_sum = -2147483648\n",
    "    row_index = 0\n",
    "    for i in range(nRows):\n",
    "        x = sum(arr[i])\n",
    "        if(x > row_sum):\n",
    "            row_sum = x\n",
    "            row_index = i\n",
    "    col_sum = -2147483648\n",
    "    co_index = 0\n",
    "    for j in range(mCols):\n",
    "        total = 0\n",
    "        for row in arr:\n",
    "            total += row[j]\n",
    "        if(total > col_sum):\n",
    "            col_sum = total\n",
    "            col_index = j\n",
    "    if(row_sum == col_sum or row_sum > col_sum):\n",
    "        print(\"row\",end=' ')\n",
    "        print(row_index,end=' ')\n",
    "        print(row_sum)\n",
    "    elif(col_sum > row_sum):\n",
    "        print(\"column\",end=' ')\n",
    "        print(col_index,end=' ')\n",
    "        print(col_sum)\n",
    "        \n",
    "        \n",
    "    #Your code goes here\n",
    "\n",
    "\n",
    "#Taking Input Using Fast I/O\n",
    "def take2DInput() :\n",
    "    li = input().split(\" \")\n",
    "    nRows = int(li[0])\n",
    "    mCols = int(li[1])\n",
    "    \n",
    "    if nRows == 0 :\n",
    "        return list(), 0, 0\n",
    "    \n",
    "    mat = [list(map(int, input().strip().split(\" \"))) for row in range(nRows)]\n",
    "    return mat, nRows, mCols\n",
    "\n",
    "\n",
    "#main\n",
    "t = int(input())\n",
    "\n",
    "while t > 0 :\n",
    "\n",
    "    mat, nRows, mCols = take2DInput()\n",
    "    findLargest(mat, nRows, mCols)\n",
    "\n",
    "    t -= 1"
   ]
  },
  {
   "cell_type": "markdown",
   "id": "9449de78",
   "metadata": {},
   "source": [
    "# Wave print"
   ]
  },
  {
   "cell_type": "code",
   "execution_count": 6,
   "id": "3bfbb619",
   "metadata": {},
   "outputs": [
    {
     "name": "stdout",
     "output_type": "stream",
     "text": [
      "1\n",
      "2 3\n",
      "1 2 3\n",
      "4 5 6\n",
      "1 4 5 2 3 6 \n"
     ]
    }
   ],
   "source": [
    "from sys import stdin\n",
    "\n",
    "def wavePrint(mat, nRows, mCols):\n",
    "    for j in range(mCols):\n",
    "        if(j%2==0):\n",
    "            for i in range(nRows):\n",
    "                print(mat[i][j], end=' ')\n",
    "        else:\n",
    "            for i in range(nRows - 1, -1, -1):\n",
    "                print(mat[i][j], end=' ')\n",
    "    \n",
    "    #Your code goes here\n",
    "    \n",
    "# def wavePrint(arr, m, n):\n",
    "#     for j in range(n):\n",
    "#         if (j % 2 == 0):\n",
    "#             for i in range(m):\n",
    "#                 print(arr[i][j], end= \" \")\n",
    "#         else:\n",
    "#             for i in range(m - 1, -1, -1):\n",
    "#                 print(arr[i][j], end= \" \")\n",
    "\n",
    "\n",
    "#Taking Iput Using Fast I/O\n",
    "def take2DInput() :\n",
    "    li = input().split(\" \")\n",
    "    nRows = int(li[0])\n",
    "    mCols = int(li[1])\n",
    "    \n",
    "    if nRows == 0 :\n",
    "        return list(), 0, 0\n",
    "    \n",
    "    mat = [list(map(int, input().strip().split(\" \"))) for row in range(nRows)]\n",
    "    return mat, nRows, mCols\n",
    "\n",
    "\n",
    "#main\n",
    "t = int(input())\n",
    "\n",
    "while t > 0 :\n",
    "\n",
    "    mat, nRows, mCols = take2DInput()\n",
    "    wavePrint(mat, nRows, mCols)\n",
    "    print()\n",
    "\n",
    "    t -= 1"
   ]
  },
  {
   "cell_type": "markdown",
   "id": "81ffeebd",
   "metadata": {},
   "source": [
    "# Spiral Print"
   ]
  },
  {
   "cell_type": "code",
   "execution_count": 7,
   "id": "1a49a3e1",
   "metadata": {},
   "outputs": [
    {
     "name": "stdout",
     "output_type": "stream",
     "text": [
      "1\n",
      "3 3\n",
      "1 2 3\n",
      "4 5 6\n",
      "7 8 9\n",
      "1 2 3 6 9 8 7 4 5 \n"
     ]
    }
   ],
   "source": [
    "from sys import stdin\n",
    "\n",
    "\n",
    "def spiralPrint(mat, nRows, mCols):\n",
    "    top = 0\n",
    "    down = nRows - 1\n",
    "    left = 0\n",
    "    right = mCols - 1\n",
    "    dir = 0\n",
    "    while(top <= down and left <= right):\n",
    "        if(dir == 0):\n",
    "            for i in range(left, right+1, 1):\n",
    "                print(mat[top][i],end=' ')\n",
    "            top += 1\n",
    "        elif(dir == 1):\n",
    "            for i in range(top, down+1, 1):\n",
    "                print(mat[i][right],end=' ')\n",
    "            right -= 1\n",
    "        elif(dir == 2):\n",
    "            for i in range(right, left-1, -1):\n",
    "                print(mat[down][i], end=' ')\n",
    "            down -= 1\n",
    "        elif(dir == 3):\n",
    "            # print(down,top,left)\n",
    "            for i in range(down, top-1, -1):\n",
    "                print(mat[i][left], end=' ')\n",
    "            left += 1\n",
    "        dir = (dir + 1) % 4\n",
    "    #Your code goes here\n",
    "\n",
    "\n",
    "#Taking Input Using Fast I/O\n",
    "def take2DInput() :\n",
    "    li = input().split(\" \")\n",
    "    nRows = int(li[0])\n",
    "    mCols = int(li[1])\n",
    "    \n",
    "    if nRows == 0 :\n",
    "        return list(), 0, 0\n",
    "    \n",
    "    mat = [list(map(int, input().strip().split(\" \"))) for row in range(nRows)]\n",
    "    return mat, nRows, mCols\n",
    "\n",
    "\n",
    "#main\n",
    "t = int(input())\n",
    "\n",
    "while t > 0 :\n",
    "\n",
    "    mat, nRows, mCols = take2DInput()\n",
    "    spiralPrint(mat, nRows, mCols)\n",
    "    print()\n",
    "\n",
    "    t -= 1"
   ]
  },
  {
   "cell_type": "code",
   "execution_count": null,
   "id": "b325e1d1",
   "metadata": {},
   "outputs": [],
   "source": []
  }
 ],
 "metadata": {
  "kernelspec": {
   "display_name": "Python 3",
   "language": "python",
   "name": "python3"
  },
  "language_info": {
   "codemirror_mode": {
    "name": "ipython",
    "version": 3
   },
   "file_extension": ".py",
   "mimetype": "text/x-python",
   "name": "python",
   "nbconvert_exporter": "python",
   "pygments_lexer": "ipython3",
   "version": "3.8.8"
  }
 },
 "nbformat": 4,
 "nbformat_minor": 5
}
