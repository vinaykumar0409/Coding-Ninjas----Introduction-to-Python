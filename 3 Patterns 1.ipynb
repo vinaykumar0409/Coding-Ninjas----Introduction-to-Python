{
 "cells": [
  {
   "cell_type": "markdown",
   "id": "291d309a",
   "metadata": {},
   "source": [
    "# Code : Square Pattern"
   ]
  },
  {
   "cell_type": "code",
   "execution_count": 1,
   "id": "89f9cf9a",
   "metadata": {},
   "outputs": [
    {
     "name": "stdout",
     "output_type": "stream",
     "text": [
      "4\n",
      "4444\n",
      "4444\n",
      "4444\n",
      "4444\n"
     ]
    }
   ],
   "source": [
    "## Read input as specified in the question\n",
    "## Print the required output in given format\n",
    "\n",
    "n = int(input())\n",
    "\n",
    "for i in range(n):\n",
    "    for j in range(n):\n",
    "        print(n,end='')\n",
    "    print()"
   ]
  },
  {
   "cell_type": "markdown",
   "id": "d5aac836",
   "metadata": {},
   "source": [
    "# Triangular Star Pattern"
   ]
  },
  {
   "cell_type": "code",
   "execution_count": 2,
   "id": "8da287ee",
   "metadata": {},
   "outputs": [
    {
     "name": "stdout",
     "output_type": "stream",
     "text": [
      "4\n",
      "*\n",
      "**\n",
      "***\n",
      "****\n"
     ]
    }
   ],
   "source": [
    "n = int(input())\n",
    "\n",
    "for i in range(n):\n",
    "    a = i+1\n",
    "    print('*'*a)"
   ]
  },
  {
   "cell_type": "markdown",
   "id": "bedec34e",
   "metadata": {},
   "source": [
    "# Triangle Number Pattern"
   ]
  },
  {
   "cell_type": "code",
   "execution_count": 3,
   "id": "e596047a",
   "metadata": {},
   "outputs": [
    {
     "name": "stdout",
     "output_type": "stream",
     "text": [
      "4\n",
      "1\n",
      "22\n",
      "333\n",
      "4444\n"
     ]
    }
   ],
   "source": [
    "## Read input as specified in the question\n",
    "## Print the required output in given format\n",
    "n = int(input())\n",
    "\n",
    "for i in range(n):\n",
    "    a = i+1\n",
    "    print(str(a)*a)"
   ]
  },
  {
   "cell_type": "markdown",
   "id": "c39a28c8",
   "metadata": {},
   "source": [
    "# Reverse Number Pattern"
   ]
  },
  {
   "cell_type": "code",
   "execution_count": 4,
   "id": "9745fb26",
   "metadata": {},
   "outputs": [
    {
     "name": "stdout",
     "output_type": "stream",
     "text": [
      "4\n",
      "1\n",
      "21\n",
      "321\n",
      "4321\n"
     ]
    }
   ],
   "source": [
    "## Read input as specified in the question\n",
    "## Print the required output in given format\n",
    "\n",
    "\n",
    "n = int(input())\n",
    "a=''\n",
    "for i in range(n):\n",
    "    x = str(i+1)\n",
    "    a=x+a\n",
    "    print(a)"
   ]
  },
  {
   "cell_type": "markdown",
   "id": "6f22bec3",
   "metadata": {},
   "source": [
    "# Character Pattern"
   ]
  },
  {
   "cell_type": "code",
   "execution_count": 5,
   "id": "920945d1",
   "metadata": {},
   "outputs": [
    {
     "name": "stdout",
     "output_type": "stream",
     "text": [
      "4\n",
      "A\n",
      "BC\n",
      "CDE\n",
      "DEFG\n"
     ]
    }
   ],
   "source": [
    "## Read input as specified in the question\n",
    "## Print the required output in given format\n",
    "\n",
    "\n",
    "n=int(input())\n",
    "currRow=1\n",
    "while currRow <=n:\n",
    "    currCol=1\n",
    "    ch=ord('A') + currRow-1\n",
    "    while currCol <= currRow:\n",
    "        print(chr(ch + currCol - 1),end=\"\")\n",
    "        currCol +=1\n",
    "    print()\n",
    "    currRow+=1"
   ]
  },
  {
   "cell_type": "markdown",
   "id": "88392e16",
   "metadata": {},
   "source": [
    "# Interesting Alphabets"
   ]
  },
  {
   "cell_type": "code",
   "execution_count": 6,
   "id": "c0087be0",
   "metadata": {},
   "outputs": [
    {
     "name": "stdout",
     "output_type": "stream",
     "text": [
      "8\n",
      "H\n",
      "GH\n",
      "FGH\n",
      "EFGH\n",
      "DEFGH\n",
      "CDEFGH\n",
      "BCDEFGH\n",
      "ABCDEFGH\n"
     ]
    }
   ],
   "source": [
    "## Read input as specified in the question.\n",
    "## Print output as specified in the question.\n",
    "lst = ['0','A','B','C','D','E','F','G','H','I','J','K','L','M','N','O','P','Q','R','S','T','U','V','W','X','Y','Z']\n",
    "n = int(input())\n",
    "x =''\n",
    "for i in range(n):\n",
    "    x = lst[n-i] + x\n",
    "    print(x)"
   ]
  },
  {
   "cell_type": "markdown",
   "id": "1d61fec7",
   "metadata": {},
   "source": [
    "# Number Pattern 1"
   ]
  },
  {
   "cell_type": "code",
   "execution_count": 7,
   "id": "00547e07",
   "metadata": {},
   "outputs": [
    {
     "name": "stdout",
     "output_type": "stream",
     "text": [
      "4\n",
      "1\n",
      "11\n",
      "111\n",
      "1111\n"
     ]
    }
   ],
   "source": [
    "## Read input as specified in the question.\n",
    "## Print output as specified in the question.\n",
    "n = int(input())\n",
    "s = '1'\n",
    "for i in range(1,n+1):\n",
    "    print(s*i)"
   ]
  },
  {
   "cell_type": "markdown",
   "id": "c0ac8a55",
   "metadata": {},
   "source": [
    "# Number Pattern 2"
   ]
  },
  {
   "cell_type": "code",
   "execution_count": 8,
   "id": "46e8e5d9",
   "metadata": {},
   "outputs": [
    {
     "name": "stdout",
     "output_type": "stream",
     "text": [
      "4\n",
      "1\n",
      "11\n",
      "202\n",
      "3003\n"
     ]
    }
   ],
   "source": [
    "## Read input as specified in the question.\n",
    "## Print output as specified in the question.\n",
    "n = int(input())\n",
    "s = \"0\"\n",
    "for i in range(n):\n",
    "    if(i==0):\n",
    "        print(1)\n",
    "    elif(i==1):\n",
    "        print(\"11\")\n",
    "    else:\n",
    "        x = (i+1) - 2\n",
    "        print(str(i)+(s*x)+str(i))\n",
    "        "
   ]
  },
  {
   "cell_type": "markdown",
   "id": "46f00ff8",
   "metadata": {},
   "source": [
    "# Number Pattern 3"
   ]
  },
  {
   "cell_type": "code",
   "execution_count": 9,
   "id": "fb4a68e2",
   "metadata": {},
   "outputs": [
    {
     "name": "stdout",
     "output_type": "stream",
     "text": [
      "4\n",
      "1\n",
      "11\n",
      "121\n",
      "1221\n"
     ]
    }
   ],
   "source": [
    "## Read input as specified in the question.\n",
    "## Print output as specified in the question.\n",
    "n = int(input())\n",
    "s = \"2\"\n",
    "for i in range(n):\n",
    "    if(i==0):\n",
    "        print(1)\n",
    "    elif(i==1):\n",
    "        print(\"11\")\n",
    "    else:\n",
    "        x = (i+1) - 2\n",
    "        print(\"1\"+(s*x)+\"1\")"
   ]
  },
  {
   "cell_type": "markdown",
   "id": "7b60452a",
   "metadata": {},
   "source": [
    "# Number Pattern"
   ]
  },
  {
   "cell_type": "code",
   "execution_count": 10,
   "id": "56db7fb0",
   "metadata": {},
   "outputs": [
    {
     "name": "stdout",
     "output_type": "stream",
     "text": [
      "4\n",
      "1234\n",
      "123\n",
      "12\n",
      "1\n"
     ]
    }
   ],
   "source": [
    "## Read input as specified in the question.\n",
    "## Print output as specified in the question.\n",
    "n=int(input())\n",
    "i=0\n",
    "while(i<n):\n",
    "    j=1\n",
    "    while ( j < n-i+1):\n",
    "        print(j,end='')\n",
    "        j=j+1\n",
    "    i=i+1\n",
    "    print()"
   ]
  },
  {
   "cell_type": "markdown",
   "id": "fefcd04e",
   "metadata": {},
   "source": [
    "# Alpha Pattern"
   ]
  },
  {
   "cell_type": "code",
   "execution_count": 11,
   "id": "8bac81ea",
   "metadata": {},
   "outputs": [
    {
     "name": "stdout",
     "output_type": "stream",
     "text": [
      "4\n",
      "A\n",
      "BB\n",
      "CCC\n",
      "DDDD\n"
     ]
    }
   ],
   "source": [
    "## Read input as specified in the question.\n",
    "## Print output as specified in the question.\n",
    "n=int(input())\n",
    "for i in range(65,65 + n):\n",
    "    for j in range(65,i+1):\n",
    "        print(chr(i),end='')\n",
    "    print(\"\")"
   ]
  },
  {
   "cell_type": "code",
   "execution_count": null,
   "id": "1487679f",
   "metadata": {},
   "outputs": [],
   "source": []
  }
 ],
 "metadata": {
  "kernelspec": {
   "display_name": "Python 3",
   "language": "python",
   "name": "python3"
  },
  "language_info": {
   "codemirror_mode": {
    "name": "ipython",
    "version": 3
   },
   "file_extension": ".py",
   "mimetype": "text/x-python",
   "name": "python",
   "nbconvert_exporter": "python",
   "pygments_lexer": "ipython3",
   "version": "3.8.8"
  }
 },
 "nbformat": 4,
 "nbformat_minor": 5
}
