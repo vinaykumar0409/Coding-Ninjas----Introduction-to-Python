{
 "cells": [
  {
   "cell_type": "markdown",
   "id": "9c5bc177",
   "metadata": {},
   "source": [
    "# Fahrenheit to Celsius Function\n"
   ]
  },
  {
   "cell_type": "code",
   "execution_count": 1,
   "id": "d1fe7052",
   "metadata": {},
   "outputs": [
    {
     "name": "stdout",
     "output_type": "stream",
     "text": [
      "0\n",
      "100\n",
      "20\n",
      "0   -17\n",
      "20   -6\n",
      "40   4\n",
      "60   15\n",
      "80   26\n",
      "100   37\n"
     ]
    }
   ],
   "source": [
    "def printTable(start,end,step):\n",
    "    curr_temp = start\n",
    "\n",
    "    while curr_temp <= end:\n",
    "        c = 5/9 * (curr_temp-32)\n",
    "        print(curr_temp, \" \", int(c))\n",
    "        curr_temp = curr_temp+step\n",
    "pass \n",
    "   \n",
    "s = int(input())\n",
    "e = int(input())\n",
    "step = int(input())\n",
    "printTable(s,e,step)"
   ]
  },
  {
   "cell_type": "markdown",
   "id": "788e0a51",
   "metadata": {},
   "source": [
    "# Fibonacci Member\n"
   ]
  },
  {
   "cell_type": "code",
   "execution_count": 2,
   "id": "c7d9a147",
   "metadata": {},
   "outputs": [
    {
     "name": "stdout",
     "output_type": "stream",
     "text": [
      "121\n",
      "false\n"
     ]
    }
   ],
   "source": [
    "import math\n",
    "def isPerfectSquare(x): \n",
    "    s = int(math.sqrt(x)) \n",
    "    return s*s == x \n",
    "\n",
    "def checkMember(n):\n",
    "    return isPerfectSquare(5*n*n + 4) or isPerfectSquare(5*n*n - 4) \n",
    "pass\n",
    "\n",
    "\n",
    "\n",
    "n=int(input())\n",
    "if(checkMember(n)):\n",
    "    print(\"true\")\n",
    "else:\n",
    "    print(\"false\")"
   ]
  },
  {
   "cell_type": "markdown",
   "id": "c6e747af",
   "metadata": {},
   "source": [
    "# Palindrome number\n"
   ]
  },
  {
   "cell_type": "code",
   "execution_count": 3,
   "id": "b6cf9883",
   "metadata": {},
   "outputs": [
    {
     "name": "stdout",
     "output_type": "stream",
     "text": [
      "2121212\n",
      "true\n"
     ]
    }
   ],
   "source": [
    "def checkPalindrome(num):\n",
    "    numb=str(num)\n",
    "    temp=numb\n",
    "    if numb[::-1]==temp:\n",
    "        return 1\n",
    "    else:\n",
    "        return 0\n",
    "pass\n",
    "num = int(input())\n",
    "isPalindrome = checkPalindrome(num)\n",
    "if(isPalindrome):\n",
    "    print('true')\n",
    "else:\n",
    "    print('false')"
   ]
  },
  {
   "cell_type": "markdown",
   "id": "03a8e27c",
   "metadata": {},
   "source": [
    "# Check Armstrong\n"
   ]
  },
  {
   "cell_type": "code",
   "execution_count": 4,
   "id": "6a652b1c",
   "metadata": {},
   "outputs": [
    {
     "name": "stdout",
     "output_type": "stream",
     "text": [
      "1353\n",
      "false\n"
     ]
    }
   ],
   "source": [
    "## Read input as specified in the question.\n",
    "## Print output as specified in the question.\n",
    "num = int(input())\n",
    "copy = num\n",
    "n=0\n",
    "while(copy>0):\n",
    "    n=n+1  # counting number of digits\n",
    "    copy=copy//10\n",
    "\n",
    "sum = 0\n",
    "temp = num\n",
    "while temp > 0:\n",
    "   digit = temp % 10\n",
    "   sum += digit ** n #number of digits in power\n",
    "   temp //= 10\n",
    "if num == sum:\n",
    "    print(\"true\")\n",
    "else:\n",
    "    print(\"false\")"
   ]
  },
  {
   "cell_type": "code",
   "execution_count": null,
   "id": "2131e5db",
   "metadata": {},
   "outputs": [],
   "source": []
  }
 ],
 "metadata": {
  "kernelspec": {
   "display_name": "Python 3",
   "language": "python",
   "name": "python3"
  },
  "language_info": {
   "codemirror_mode": {
    "name": "ipython",
    "version": 3
   },
   "file_extension": ".py",
   "mimetype": "text/x-python",
   "name": "python",
   "nbconvert_exporter": "python",
   "pygments_lexer": "ipython3",
   "version": "3.8.8"
  }
 },
 "nbformat": 4,
 "nbformat_minor": 5
}
